{
 "cells": [
  {
   "cell_type": "code",
   "execution_count": 1,
   "id": "bebcff3e",
   "metadata": {},
   "outputs": [
    {
     "name": "stdout",
     "output_type": "stream",
     "text": [
      "Note: you may need to restart the kernel to use updated packages.\n",
      "Note: you may need to restart the kernel to use updated packages.\n",
      "Note: you may need to restart the kernel to use updated packages.\n",
      "Note: you may need to restart the kernel to use updated packages.\n",
      "Note: you may need to restart the kernel to use updated packages.\n",
      "Note: you may need to restart the kernel to use updated packages.\n",
      "Note: you may need to restart the kernel to use updated packages.\n"
     ]
    }
   ],
   "source": [
    "%pip install torch -q \n",
    "%pip install transformers -q \n",
    "%pip install numpy -q \n",
    "%pip install langchain -q \n",
    "%pip install langchain_community -q \n",
    "%pip install langchain-chroma -q \n",
    "%pip install langchain_transformers -q"
   ]
  },
  {
   "cell_type": "markdown",
   "id": "c655e152",
   "metadata": {},
   "source": []
  }
 ],
 "metadata": {
  "language_info": {
   "name": "python"
  }
 },
 "nbformat": 4,
 "nbformat_minor": 5
}
