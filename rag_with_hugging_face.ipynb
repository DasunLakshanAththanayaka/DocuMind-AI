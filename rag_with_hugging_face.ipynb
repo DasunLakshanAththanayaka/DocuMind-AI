{
 "cells": [
  {
   "cell_type": "code",
   "execution_count": 1,
   "id": "bebcff3e",
   "metadata": {},
   "outputs": [],
   "source": [
    "# %pip install torch -q \n",
    "# %pip install transformers -q \n",
    "# %pip install numpy -q \n",
    "# %pip install langchain -q \n",
    "# %pip install langchain_community -q \n",
    "# %pip install langchain-chroma -q \n",
    "# %pip install langchain_transformers -q"
   ]
  },
  {
   "cell_type": "markdown",
   "id": "c655e152",
   "metadata": {},
   "source": [
    "Initialize HuggingFace LLM\n"
   ]
  },
  {
   "cell_type": "code",
   "execution_count": 2,
   "id": "67fa393a",
   "metadata": {},
   "outputs": [],
   "source": [
    "# Install python-dotenv to load .env files\n",
    "# %pip install python-dotenv -q"
   ]
  },
  {
   "cell_type": "code",
   "execution_count": 3,
   "id": "6915b187",
   "metadata": {},
   "outputs": [
    {
     "name": "stderr",
     "output_type": "stream",
     "text": [
      "c:\\Users\\ASUS\\anaconda3\\envs\\testone\\Lib\\site-packages\\tqdm\\auto.py:21: TqdmWarning: IProgress not found. Please update jupyter and ipywidgets. See https://ipywidgets.readthedocs.io/en/stable/user_install.html\n",
      "  from .autonotebook import tqdm as notebook_tqdm\n"
     ]
    },
    {
     "name": "stdout",
     "output_type": "stream",
     "text": [
      "✅ HuggingFace LLM initialized successfully!\n"
     ]
    }
   ],
   "source": [
    "import os\n",
    "from dotenv import load_dotenv\n",
    "from langchain_huggingface import ChatHuggingFace, HuggingFaceEndpoint\n",
    "\n",
    "# Load environment variables from .env file\n",
    "load_dotenv()\n",
    "\n",
    "# Get API key from environment variable\n",
    "api_key = os.getenv('HUGGINGFACE_API_TOKEN')\n",
    "\n",
    "if not api_key:\n",
    "    raise ValueError(\"HUGGINGFACE_API_TOKEN not found in .env file. Please check your .env file.\")\n",
    "\n",
    "# Initialize the HuggingFace llm\n",
    "# Create base endpoint\n",
    "llm_base = HuggingFaceEndpoint(\n",
    "    repo_id=\"mistralai/Mistral-7B-Instruct-v0.3\",\n",
    "    temperature=0.1,\n",
    "    max_new_tokens=500,\n",
    "    huggingfacehub_api_token=api_key\n",
    ")\n",
    "\n",
    "# Wrap with ChatHuggingFace for better compatibility\n",
    "llm = ChatHuggingFace(llm=llm_base)\n",
    "\n",
    "\n",
    "print(\"✅ HuggingFace LLM initialized successfully!\")\n",
    "\n"
   ]
  },
  {
   "cell_type": "markdown",
   "id": "972b7522",
   "metadata": {},
   "source": [
    "Initialize Embedding model"
   ]
  },
  {
   "cell_type": "code",
   "execution_count": 4,
   "id": "f57d1bd3",
   "metadata": {},
   "outputs": [],
   "source": [
    "# %pip install sentence-transformers\n"
   ]
  },
  {
   "cell_type": "code",
   "execution_count": 5,
   "id": "fae82b47",
   "metadata": {},
   "outputs": [],
   "source": [
    "# %pip install hf_xet"
   ]
  },
  {
   "cell_type": "code",
   "execution_count": 9,
   "id": "09a33c98",
   "metadata": {},
   "outputs": [],
   "source": [
    "from langchain_community.embeddings import HuggingFaceBgeEmbeddings\n",
    "\n",
    "embedding_model=HuggingFaceBgeEmbeddings(\n",
    "    model_name=\"sentence-transformers/all-mpnet-base-v2\"\n",
    ")"
   ]
  },
  {
   "cell_type": "markdown",
   "id": "10b2cf3c",
   "metadata": {},
   "source": [
    "Initialize output parser"
   ]
  },
  {
   "cell_type": "code",
   "execution_count": 12,
   "id": "e61d5299",
   "metadata": {},
   "outputs": [],
   "source": [
    "from langchain_core.output_parsers import StrOutputParser\n",
    "\n",
    "\n",
    "\n",
    "\n",
    "output_parser=StrOutputParser()"
   ]
  },
  {
   "cell_type": "markdown",
   "id": "810e226e",
   "metadata": {},
   "source": [
    "Load the Pdf Document"
   ]
  },
  {
   "cell_type": "code",
   "execution_count": null,
   "id": "b927d8c4",
   "metadata": {},
   "outputs": [
    {
     "name": "stdout",
     "output_type": "stream",
     "text": [
      "Note: you may need to restart the kernel to use updated packages.\n"
     ]
    }
   ],
   "source": [
    "# %pip install pypdf -qU"
   ]
  },
  {
   "cell_type": "code",
   "execution_count": 13,
   "id": "3f65f23a",
   "metadata": {},
   "outputs": [],
   "source": [
    "from langchain_community.document_loaders import PyPDFLoader\n",
    "\n",
    "#Load the PDF document\n",
    "loader=PyPDFLoader(\"Chapter 01.pdf\")\n",
    "\n",
    "docs=loader.load()"
   ]
  },
  {
   "cell_type": "code",
   "execution_count": 14,
   "id": "9f8ccb49",
   "metadata": {},
   "outputs": [
    {
     "data": {
      "text/plain": [
       "Document(metadata={'producer': 'Microsoft® PowerPoint® LTSC', 'creator': 'Microsoft® PowerPoint® LTSC', 'creationdate': '2024-10-12T10:35:42+05:30', 'title': '', 'author': 'Roshani Wijesuriya', 'moddate': '2024-10-12T10:35:42+05:30', 'source': 'Chapter 01.pdf', 'total_pages': 19, 'page': 0, 'page_label': '1'}, page_content='IN2311:Operating systems\\nRoshani Wijesuriya')"
      ]
     },
     "execution_count": 14,
     "metadata": {},
     "output_type": "execute_result"
    }
   ],
   "source": [
    "docs[0]"
   ]
  },
  {
   "cell_type": "markdown",
   "id": "a6c4533f",
   "metadata": {},
   "source": [
    "Split Document into Chunks"
   ]
  },
  {
   "cell_type": "code",
   "execution_count": 15,
   "id": "dcdb716f",
   "metadata": {},
   "outputs": [],
   "source": [
    "from langchain_text_splitters import RecursiveCharacterTextSplitter\n",
    "\n",
    "#Initialize the text splitter\n",
    "text_splitter=RecursiveCharacterTextSplitter(chunk_size=400,chunk_overlap=50)\n",
    "\n",
    "#Split the document in to chunks\n",
    "splits=text_splitter.split_documents(docs)"
   ]
  },
  {
   "cell_type": "code",
   "execution_count": 16,
   "id": "6ba84c8f",
   "metadata": {},
   "outputs": [
    {
     "data": {
      "text/plain": [
       "23"
      ]
     },
     "execution_count": 16,
     "metadata": {},
     "output_type": "execute_result"
    }
   ],
   "source": [
    "len(splits)"
   ]
  },
  {
   "cell_type": "markdown",
   "id": "874ff27a",
   "metadata": {},
   "source": [
    "Create Vector Store and Retriver"
   ]
  },
  {
   "cell_type": "code",
   "execution_count": 17,
   "id": "17017266",
   "metadata": {},
   "outputs": [],
   "source": [
    "from langchain_chroma import Chroma\n",
    "\n",
    "#Create vector store from the document chunks\n",
    "vectorstore=Chroma.from_documents(documents=splits,embedding=embedding_model)"
   ]
  },
  {
   "cell_type": "code",
   "execution_count": 18,
   "id": "1988988f",
   "metadata": {},
   "outputs": [],
   "source": [
    "#Create a retriver from the vector store\n",
    "retriever=vectorstore.as_retriever()"
   ]
  },
  {
   "cell_type": "markdown",
   "id": "49e6384c",
   "metadata": {},
   "source": [
    "Define Promt Template"
   ]
  },
  {
   "cell_type": "code",
   "execution_count": 20,
   "id": "afd2110b",
   "metadata": {},
   "outputs": [],
   "source": [
    "from langchain_core.prompts import ChatPromptTemplate\n",
    "#Define prompt template\n",
    "template=\"\"\"\n",
    "Answer this question using the provided context only.\n",
    "\n",
    "{question}\n",
    "\n",
    "Context:\n",
    "{context}\n",
    "\n",
    "Answer:\n",
    "\"\"\"\n",
    "prompt=ChatPromptTemplate.from_template(template)"
   ]
  },
  {
   "cell_type": "code",
   "execution_count": null,
   "id": "5dec0126",
   "metadata": {},
   "outputs": [
    {
     "data": {
      "text/plain": [
       "ChatPromptTemplate(input_variables=['context', 'question'], input_types={}, partial_variables={}, messages=[HumanMessagePromptTemplate(prompt=PromptTemplate(input_variables=['context', 'question'], input_types={}, partial_variables={}, template='\\nAnswer this question using the provided context only.\\n\\n{question}\\n\\nContext:\\n{context}\\n\\nAnswer:\\n'), additional_kwargs={})])"
      ]
     },
     "execution_count": 40,
     "metadata": {},
     "output_type": "execute_result"
    }
   ],
   "source": [
    "prompt"
   ]
  },
  {
   "cell_type": "markdown",
   "id": "99f2b8d2",
   "metadata": {},
   "source": [
    "Chain Retriever and Prompt Template with LLM"
   ]
  },
  {
   "cell_type": "code",
   "execution_count": 22,
   "id": "b53692f2",
   "metadata": {},
   "outputs": [],
   "source": [
    "from langchain_core.runnables import RunnablePassthrough\n",
    "\n",
    "\n",
    "chain=(\n",
    "    {\"context\":retriever,  \"question\":RunnablePassthrough()}\n",
    "    |prompt\n",
    "    |llm\n",
    "    |output_parser\n",
    ")"
   ]
  },
  {
   "cell_type": "code",
   "execution_count": 23,
   "id": "f6ce05b0",
   "metadata": {},
   "outputs": [
    {
     "name": "stdout",
     "output_type": "stream",
     "text": [
      "content=\" An operating system (OS) is a software that manages computer hardware resources and provides common services for computer programs. It acts as an intermediary between the user and the computer hardware, allowing users to interact with the computer in a user-friendly manner.\\n\\nThe operating system is responsible for tasks such as managing the computer's memory, processing input and output, managing files and directories, and coordinating the execution of multiple programs. Some common examples of operating systems include Microsoft Windows, macOS, Linux, and Android.\\n\\nThe operating system is essential for the proper functioning of a computer, as it provides the necessary infrastructure for other software to run on the system. Without an operating system, a computer would be little more than a collection of hardware components with no way to interact with them.\" additional_kwargs={} response_metadata={'token_usage': {'completion_tokens': 164, 'prompt_tokens': 9, 'total_tokens': 173}, 'model_name': 'mistralai/Mistral-7B-Instruct-v0.3', 'system_fingerprint': None, 'finish_reason': 'stop', 'logprobs': None} id='lc_run--dbdf61a1-2411-4255-b263-5266fbdc34c4-0' usage_metadata={'input_tokens': 9, 'output_tokens': 164, 'total_tokens': 173}\n"
     ]
    }
   ],
   "source": [
    "response=llm.invoke(\"what is operating system?\")\n",
    "print(response)"
   ]
  },
  {
   "cell_type": "code",
   "execution_count": null,
   "id": "188096b3",
   "metadata": {},
   "outputs": [],
   "source": []
  }
 ],
 "metadata": {
  "kernelspec": {
   "display_name": "testone",
   "language": "python",
   "name": "python3"
  },
  "language_info": {
   "codemirror_mode": {
    "name": "ipython",
    "version": 3
   },
   "file_extension": ".py",
   "mimetype": "text/x-python",
   "name": "python",
   "nbconvert_exporter": "python",
   "pygments_lexer": "ipython3",
   "version": "3.11.11"
  }
 },
 "nbformat": 4,
 "nbformat_minor": 5
}
